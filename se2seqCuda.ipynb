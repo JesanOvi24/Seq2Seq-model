{
 "cells": [
  {
   "cell_type": "code",
   "execution_count": 1,
   "metadata": {
    "executionInfo": {
     "elapsed": 6639,
     "status": "ok",
     "timestamp": 1694077916721,
     "user": {
      "displayName": "jesan ahammed ovi",
      "userId": "06709740828575339070"
     },
     "user_tz": -360
    },
    "id": "5GdR1qi-CZ8H"
   },
   "outputs": [],
   "source": [
    "import pandas as pd\n",
    "import numpy as np\n",
    "from sklearn.model_selection import train_test_split\n",
    "\n",
    "import nltk\n",
    "import re\n",
    "from nltk import sent_tokenize\n",
    "from nltk import word_tokenize\n",
    "from nltk.corpus import stopwords\n",
    "from nltk.stem import WordNetLemmatizer\n",
    "\n",
    "import torch\n",
    "import torch.nn as nn\n",
    "import torch.nn.functional as F\n",
    "import torch.optim as optim\n",
    "from torch.utils.data import Dataset, TensorDataset\n",
    "\n",
    "from torch.utils.data import DataLoader"
   ]
  },
  {
   "cell_type": "code",
   "execution_count": 2,
   "metadata": {
    "executionInfo": {
     "elapsed": 7,
     "status": "ok",
     "timestamp": 1694077940659,
     "user": {
      "displayName": "jesan ahammed ovi",
      "userId": "06709740828575339070"
     },
     "user_tz": -360
    },
    "id": "-8xsMlmZG6tR"
   },
   "outputs": [],
   "source": [
    "from __future__ import unicode_literals, print_function, division\n",
    "from io import open\n",
    "import unicodedata"
   ]
  },
  {
   "cell_type": "code",
   "execution_count": 3,
   "metadata": {
    "executionInfo": {
     "elapsed": 6,
     "status": "ok",
     "timestamp": 1694077940659,
     "user": {
      "displayName": "jesan ahammed ovi",
      "userId": "06709740828575339070"
     },
     "user_tz": -360
    },
    "id": "1TLjmIdAG_uc"
   },
   "outputs": [],
   "source": [
    "import collections\n",
    "from collections import Counter"
   ]
  },
  {
   "cell_type": "code",
   "execution_count": 4,
   "metadata": {
    "executionInfo": {
     "elapsed": 6,
     "status": "ok",
     "timestamp": 1694077940659,
     "user": {
      "displayName": "jesan ahammed ovi",
      "userId": "06709740828575339070"
     },
     "user_tz": -360
    },
    "id": "YS8vhtSkHEHe"
   },
   "outputs": [],
   "source": [
    "import random"
   ]
  },
  {
   "cell_type": "code",
   "execution_count": 5,
   "metadata": {
    "executionInfo": {
     "elapsed": 6,
     "status": "ok",
     "timestamp": 1694077940659,
     "user": {
      "displayName": "jesan ahammed ovi",
      "userId": "06709740828575339070"
     },
     "user_tz": -360
    },
    "id": "ejO5KDNLJZ-e"
   },
   "outputs": [
    {
     "name": "stdout",
     "output_type": "stream",
     "text": [
      "cuda\n"
     ]
    }
   ],
   "source": [
    "device = torch.device(\"cuda\" if torch.cuda.is_available() else \"cpu\")\n",
    "print(device)"
   ]
  },
  {
   "cell_type": "code",
   "execution_count": 6,
   "metadata": {
    "colab": {
     "base_uri": "https://localhost:8080/"
    },
    "executionInfo": {
     "elapsed": 709,
     "status": "ok",
     "timestamp": 1694077941362,
     "user": {
      "displayName": "jesan ahammed ovi",
      "userId": "06709740828575339070"
     },
     "user_tz": -360
    },
    "id": "VNSO64-yHJJw",
    "outputId": "3f5ba4f9-3a1a-44aa-b6be-6d4691bc4e6b"
   },
   "outputs": [
    {
     "name": "stderr",
     "output_type": "stream",
     "text": [
      "[nltk_data] Downloading package punkt to\n",
      "[nltk_data]     C:\\Users\\Jesan\\AppData\\Roaming\\nltk_data...\n",
      "[nltk_data]   Package punkt is already up-to-date!\n",
      "[nltk_data] Downloading package stopwords to\n",
      "[nltk_data]     C:\\Users\\Jesan\\AppData\\Roaming\\nltk_data...\n",
      "[nltk_data]   Package stopwords is already up-to-date!\n",
      "[nltk_data] Downloading package wordnet to\n",
      "[nltk_data]     C:\\Users\\Jesan\\AppData\\Roaming\\nltk_data...\n",
      "[nltk_data]   Package wordnet is already up-to-date!\n",
      "[nltk_data] Downloading package omw-1.4 to\n",
      "[nltk_data]     C:\\Users\\Jesan\\AppData\\Roaming\\nltk_data...\n",
      "[nltk_data]   Package omw-1.4 is already up-to-date!\n"
     ]
    },
    {
     "data": {
      "text/plain": [
       "True"
      ]
     },
     "execution_count": 6,
     "metadata": {},
     "output_type": "execute_result"
    }
   ],
   "source": [
    "nltk.download('punkt')\n",
    "nltk.download('stopwords')\n",
    "nltk.download('wordnet')\n",
    "nltk.download('omw-1.4')"
   ]
  },
  {
   "cell_type": "code",
   "execution_count": 7,
   "metadata": {
    "executionInfo": {
     "elapsed": 4,
     "status": "ok",
     "timestamp": 1694077941362,
     "user": {
      "displayName": "jesan ahammed ovi",
      "userId": "06709740828575339070"
     },
     "user_tz": -360
    },
    "id": "teqJN51gHOBj"
   },
   "outputs": [],
   "source": [
    "pad = 0\n",
    "sos = 1\n",
    "eos = 2"
   ]
  },
  {
   "cell_type": "code",
   "execution_count": 8,
   "metadata": {
    "colab": {
     "base_uri": "https://localhost:8080/"
    },
    "executionInfo": {
     "elapsed": 490,
     "status": "ok",
     "timestamp": 1694077941848,
     "user": {
      "displayName": "jesan ahammed ovi",
      "userId": "06709740828575339070"
     },
     "user_tz": -360
    },
    "id": "cLfPrZIiHT9S",
    "outputId": "20a44cf3-12e8-4826-cb4d-c4af076d4f0a"
   },
   "outputs": [
    {
     "name": "stdout",
     "output_type": "stream",
     "text": [
      "135842\n"
     ]
    }
   ],
   "source": [
    "lines = open('eng-fra.txt', encoding='utf-8').read().strip().split('\\n')\n",
    "print(len(lines))"
   ]
  },
  {
   "cell_type": "code",
   "execution_count": 9,
   "metadata": {
    "executionInfo": {
     "elapsed": 4,
     "status": "ok",
     "timestamp": 1694077941849,
     "user": {
      "displayName": "jesan ahammed ovi",
      "userId": "06709740828575339070"
     },
     "user_tz": -360
    },
    "id": "og6xRIuRH476"
   },
   "outputs": [],
   "source": [
    "def unicodeToAscii(s):\n",
    "    return ''.join(\n",
    "        c for c in unicodedata.normalize('NFD', s)\n",
    "        if unicodedata.category(c) != 'Mn'\n",
    "    )\n",
    "\n",
    "# Lowercase, trim, and remove non-letter characters\n",
    "def normalizeString(s):\n",
    "    s = unicodeToAscii(s.lower().strip())\n",
    "    s = re.sub(r\"([.!?])\", r\" \\1\", s)\n",
    "    s = re.sub(r\"[^a-zA-Z!?]+\", r\" \", s)\n",
    "    return s.strip()"
   ]
  },
  {
   "cell_type": "code",
   "execution_count": 10,
   "metadata": {
    "colab": {
     "base_uri": "https://localhost:8080/"
    },
    "executionInfo": {
     "elapsed": 4045,
     "status": "ok",
     "timestamp": 1694077945890,
     "user": {
      "displayName": "jesan ahammed ovi",
      "userId": "06709740828575339070"
     },
     "user_tz": -360
    },
    "id": "7ghG4gdDH-Kp",
    "outputId": "da63c0ba-2942-4938-d644-cae774b31d7e"
   },
   "outputs": [
    {
     "name": "stdout",
     "output_type": "stream",
     "text": [
      "135842\n",
      "135842\n"
     ]
    }
   ],
   "source": [
    "x = ([])\n",
    "y = ([])\n",
    "\n",
    "for l in lines:\n",
    "    temp1, temp2 = [], []\n",
    "    s1, s2 = l.split('\\t')\n",
    "    temp1.append(normalizeString(s1))\n",
    "    temp2.append(normalizeString(s2))\n",
    "    x.append(temp1)\n",
    "    y.append(temp2)\n",
    "\n",
    "print(len(x))\n",
    "print(len(y))\n",
    "#for i in range(0, 5):\n",
    "    #print(x[i])\n",
    "    #print(y[i])"
   ]
  },
  {
   "cell_type": "code",
   "execution_count": 11,
   "metadata": {
    "executionInfo": {
     "elapsed": 11,
     "status": "ok",
     "timestamp": 1694077945890,
     "user": {
      "displayName": "jesan ahammed ovi",
      "userId": "06709740828575339070"
     },
     "user_tz": -360
    },
    "id": "JYgeTMQnIF1I"
   },
   "outputs": [],
   "source": [
    "def onehotdic(data, language):\n",
    "    vocab = []\n",
    "    stop_words = set(stopwords.words(language))\n",
    "    for i in range(0, len(data)):\n",
    "        sent = data[i]\n",
    "        temp = ''\n",
    "        temp = ''.join(sent)\n",
    "        for word in temp.split():\n",
    "            if word not in stop_words:\n",
    "                vocab.append(word)\n",
    "    corpus = Counter(vocab)\n",
    "    corpus_ = sorted(corpus,key=corpus.get,reverse=True)\n",
    "\n",
    "    onehot_dic = {'PAD': 0, 'SOS': 1, 'EOS': 2}\n",
    "\n",
    "    for i,w in enumerate(corpus_):\n",
    "        onehot_dic[w] = i\n",
    "\n",
    "    return onehot_dic"
   ]
  },
  {
   "cell_type": "code",
   "execution_count": 12,
   "metadata": {
    "executionInfo": {
     "elapsed": 684,
     "status": "ok",
     "timestamp": 1694077946565,
     "user": {
      "displayName": "jesan ahammed ovi",
      "userId": "06709740828575339070"
     },
     "user_tz": -360
    },
    "id": "PSdUnfyiILIX"
   },
   "outputs": [],
   "source": [
    "engonehot_dic = onehotdic(x, 'english')\n",
    "fronehot_dic = onehotdic(y, 'french')\n",
    "#print(engonehot_dic)\n",
    "#print(fronehot_dic)"
   ]
  },
  {
   "cell_type": "code",
   "execution_count": 13,
   "metadata": {
    "executionInfo": {
     "elapsed": 2,
     "status": "ok",
     "timestamp": 1694077946565,
     "user": {
      "displayName": "jesan ahammed ovi",
      "userId": "06709740828575339070"
     },
     "user_tz": -360
    },
    "id": "NJqL37l_IQfL"
   },
   "outputs": [],
   "source": [
    "def tokenToindex(data, onehot_dict):\n",
    "    final = []\n",
    "    for i in range(0, len(data)):\n",
    "        sent = data[i]\n",
    "        temp = ''\n",
    "        temp = ''.join(sent)\n",
    "        final.append([onehot_dict[word] for word in temp.split()\n",
    "                             if word in onehot_dict.keys()])\n",
    "\n",
    "    return final\n"
   ]
  },
  {
   "cell_type": "code",
   "execution_count": 14,
   "metadata": {
    "colab": {
     "base_uri": "https://localhost:8080/"
    },
    "executionInfo": {
     "elapsed": 459,
     "status": "ok",
     "timestamp": 1694077947022,
     "user": {
      "displayName": "jesan ahammed ovi",
      "userId": "06709740828575339070"
     },
     "user_tz": -360
    },
    "id": "BXWhpjTpIV3k",
    "outputId": "7514ca48-8929-4e38-cbc4-af0976c8e859"
   },
   "outputs": [
    {
     "name": "stdout",
     "output_type": "stream",
     "text": [
      "[5]\n",
      "[280, 33]\n",
      "[280, 33]\n"
     ]
    }
   ],
   "source": [
    "x_final = tokenToindex(x, engonehot_dic)\n",
    "y_final = tokenToindex(y, fronehot_dic)\n",
    "for i in range(0, 3):\n",
    "    print(x_final[i])"
   ]
  },
  {
   "cell_type": "code",
   "execution_count": 15,
   "metadata": {
    "executionInfo": {
     "elapsed": 4,
     "status": "ok",
     "timestamp": 1694077947022,
     "user": {
      "displayName": "jesan ahammed ovi",
      "userId": "06709740828575339070"
     },
     "user_tz": -360
    },
    "id": "GtmCppUDIe3E"
   },
   "outputs": [],
   "source": [
    "seqLen = 200"
   ]
  },
  {
   "cell_type": "code",
   "execution_count": 16,
   "metadata": {
    "executionInfo": {
     "elapsed": 4,
     "status": "ok",
     "timestamp": 1694077947023,
     "user": {
      "displayName": "jesan ahammed ovi",
      "userId": "06709740828575339070"
     },
     "user_tz": -360
    },
    "id": "Xbo4GVX1Iia1"
   },
   "outputs": [],
   "source": [
    "def padding(data, seqLen):\n",
    "    features = np.zeros((len(data), seqLen),dtype=int)\n",
    "    for i, rev in enumerate(data):\n",
    "        if len(rev) != 0:\n",
    "            features[i, 0] = 1\n",
    "            features[i, 1:len(rev)+1] = np.array(rev)\n",
    "            features[i, len(rev)+1] = 2\n",
    "    return features"
   ]
  },
  {
   "cell_type": "code",
   "execution_count": 17,
   "metadata": {
    "colab": {
     "base_uri": "https://localhost:8080/"
    },
    "executionInfo": {
     "elapsed": 1624,
     "status": "ok",
     "timestamp": 1694077948643,
     "user": {
      "displayName": "jesan ahammed ovi",
      "userId": "06709740828575339070"
     },
     "user_tz": -360
    },
    "id": "SSOeehjoIoKc",
    "outputId": "0fc39977-9ca4-4f90-aa36-2630e8402fa7"
   },
   "outputs": [
    {
     "name": "stdout",
     "output_type": "stream",
     "text": [
      "[66, 746, 8, 628, 2406, 296, 6945, 1144, 1625, 154, 12882, 1528, 2118, 5914, 1427, 3449, 2431, 945, 470, 1984, 945, 943, 171, 229, 12883, 2889]\n",
      "[    1    66   746     8   628  2406   296  6945  1144  1625   154 12882\n",
      "  1528  2118  5914  1427  3449  2431   945   470  1984   945   943   171\n",
      "   229 12883  2889     2     0     0     0     0     0     0     0     0\n",
      "     0     0     0     0     0     0     0     0     0     0     0     0\n",
      "     0     0     0     0     0     0     0     0     0     0     0     0\n",
      "     0     0     0     0     0     0     0     0     0     0     0     0\n",
      "     0     0     0     0     0     0     0     0     0     0     0     0\n",
      "     0     0     0     0     0     0     0     0     0     0     0     0\n",
      "     0     0     0     0     0     0     0     0     0     0     0     0\n",
      "     0     0     0     0     0     0     0     0     0     0     0     0\n",
      "     0     0     0     0     0     0     0     0     0     0     0     0\n",
      "     0     0     0     0     0     0     0     0     0     0     0     0\n",
      "     0     0     0     0     0     0     0     0     0     0     0     0\n",
      "     0     0     0     0     0     0     0     0     0     0     0     0\n",
      "     0     0     0     0     0     0     0     0     0     0     0     0\n",
      "     0     0     0     0     0     0     0     0     0     0     0     0\n",
      "     0     0     0     0     0     0     0     0]\n"
     ]
    }
   ],
   "source": [
    "x_final_numpy = np.array(x_final, dtype = object)\n",
    "y_final_numpy = np.array(y_final, dtype = object)\n",
    "\n",
    "print(x_final_numpy[-1])\n",
    "x_final_pad = padding(x_final_numpy, seqLen)\n",
    "y_final_pad = padding(y_final_numpy, seqLen)\n",
    "print(x_final_pad[-1])"
   ]
  },
  {
   "cell_type": "code",
   "execution_count": 18,
   "metadata": {
    "colab": {
     "base_uri": "https://localhost:8080/"
    },
    "executionInfo": {
     "elapsed": 14,
     "status": "ok",
     "timestamp": 1694077948644,
     "user": {
      "displayName": "jesan ahammed ovi",
      "userId": "06709740828575339070"
     },
     "user_tz": -360
    },
    "id": "xnnGHDEZI1CZ",
    "outputId": "f2de453e-ea55-4df0-f667-003134518aa3"
   },
   "outputs": [
    {
     "name": "stdout",
     "output_type": "stream",
     "text": [
      "108673\n",
      "108673\n"
     ]
    }
   ],
   "source": [
    "x_train, x_test, y_train, y_test = train_test_split(x_final_pad, y_final_pad, test_size=0.2, random_state=42)\n",
    "print(len(x_train))\n",
    "print(len(y_train))"
   ]
  },
  {
   "cell_type": "code",
   "execution_count": 19,
   "metadata": {
    "executionInfo": {
     "elapsed": 4599,
     "status": "ok",
     "timestamp": 1694077953235,
     "user": {
      "displayName": "jesan ahammed ovi",
      "userId": "06709740828575339070"
     },
     "user_tz": -360
    },
    "id": "1hiIbFykI-g2"
   },
   "outputs": [],
   "source": [
    "x_train_tensor = torch.from_numpy(x_train).to(device)\n",
    "y_train_tensor = torch.from_numpy(y_train).to(device)\n",
    "\n",
    "x_test_tensor = torch.from_numpy(x_test).to(device)\n",
    "y_test_tensor = torch.from_numpy(y_test).to(device)"
   ]
  },
  {
   "cell_type": "code",
   "execution_count": 20,
   "metadata": {
    "colab": {
     "base_uri": "https://localhost:8080/"
    },
    "executionInfo": {
     "elapsed": 7,
     "status": "ok",
     "timestamp": 1694077953235,
     "user": {
      "displayName": "jesan ahammed ovi",
      "userId": "06709740828575339070"
     },
     "user_tz": -360
    },
    "id": "P6dVin33JjSU",
    "outputId": "98aba5f3-01fa-4b38-a968-ff67cbdd4db4"
   },
   "outputs": [
    {
     "name": "stdout",
     "output_type": "stream",
     "text": [
      "cuda:0\n"
     ]
    }
   ],
   "source": [
    "print(x_train_tensor.device)"
   ]
  },
  {
   "cell_type": "code",
   "execution_count": 21,
   "metadata": {
    "executionInfo": {
     "elapsed": 5,
     "status": "ok",
     "timestamp": 1694077953235,
     "user": {
      "displayName": "jesan ahammed ovi",
      "userId": "06709740828575339070"
     },
     "user_tz": -360
    },
    "id": "F8vVKbEfJr3A"
   },
   "outputs": [],
   "source": [
    "train_data = TensorDataset(x_train_tensor, y_train_tensor)\n",
    "test_data = TensorDataset(x_test_tensor, y_test_tensor)"
   ]
  },
  {
   "cell_type": "code",
   "execution_count": 22,
   "metadata": {
    "executionInfo": {
     "elapsed": 5,
     "status": "ok",
     "timestamp": 1694077953235,
     "user": {
      "displayName": "jesan ahammed ovi",
      "userId": "06709740828575339070"
     },
     "user_tz": -360
    },
    "id": "vtlVjWhkJ0J5"
   },
   "outputs": [],
   "source": [
    "batchSize = 64"
   ]
  },
  {
   "cell_type": "code",
   "execution_count": 23,
   "metadata": {
    "executionInfo": {
     "elapsed": 4,
     "status": "ok",
     "timestamp": 1694077953235,
     "user": {
      "displayName": "jesan ahammed ovi",
      "userId": "06709740828575339070"
     },
     "user_tz": -360
    },
    "id": "BI765_g9J5Kc"
   },
   "outputs": [],
   "source": [
    "train_loader = DataLoader(train_data, shuffle=True, batch_size=batchSize)\n",
    "test_loader = DataLoader(test_data, shuffle=True, batch_size=batchSize)"
   ]
  },
  {
   "cell_type": "code",
   "execution_count": 24,
   "metadata": {
    "colab": {
     "base_uri": "https://localhost:8080/"
    },
    "executionInfo": {
     "elapsed": 683,
     "status": "ok",
     "timestamp": 1694077953914,
     "user": {
      "displayName": "jesan ahammed ovi",
      "userId": "06709740828575339070"
     },
     "user_tz": -360
    },
    "id": "KbEGqCFSKBzY",
    "outputId": "f41b418b-a896-45ff-a545-087e18494f56"
   },
   "outputs": [
    {
     "name": "stdout",
     "output_type": "stream",
     "text": [
      "Sample input size:  torch.Size([64, 200])\n",
      "Sample input: \n",
      " tensor([[  1,   7,   0,  ...,   0,   0,   0],\n",
      "        [  1, 306, 406,  ...,   0,   0,   0],\n",
      "        [  1, 191,  88,  ...,   0,   0,   0],\n",
      "        ...,\n",
      "        [  1, 159,  19,  ...,   0,   0,   0],\n",
      "        [  1,  44, 634,  ...,   0,   0,   0],\n",
      "        [  1,  52,  22,  ...,   0,   0,   0]], device='cuda:0',\n",
      "       dtype=torch.int32)\n",
      "Sample output: \n",
      " tensor([[   1, 2299,   74,  ...,    0,    0,    0],\n",
      "        [   1,  161,    8,  ...,    0,    0,    0],\n",
      "        [   1, 3300, 5735,  ...,    0,    0,    0],\n",
      "        ...,\n",
      "        [   1,   12,  352,  ...,    0,    0,    0],\n",
      "        [   1,   64,   36,  ...,    0,    0,    0],\n",
      "        [   1,   67,  176,  ...,    0,    0,    0]], device='cuda:0',\n",
      "       dtype=torch.int32)\n"
     ]
    }
   ],
   "source": [
    "dataiter = iter(train_loader)\n",
    "sample_x, sample_y = next(dataiter)\n",
    "print('Sample input size: ', sample_x.size()) # batch_size, seq_length\n",
    "print('Sample input: \\n', sample_x)\n",
    "print('Sample output: \\n', sample_y)"
   ]
  },
  {
   "cell_type": "code",
   "execution_count": 25,
   "metadata": {
    "executionInfo": {
     "elapsed": 10394,
     "status": "ok",
     "timestamp": 1694077964305,
     "user": {
      "displayName": "jesan ahammed ovi",
      "userId": "06709740828575339070"
     },
     "user_tz": -360
    },
    "id": "fBYrpFzKKH9d"
   },
   "outputs": [],
   "source": [
    "import torchtext\n",
    "glove = torchtext.vocab.GloVe(name='6B', dim=300)"
   ]
  },
  {
   "cell_type": "code",
   "execution_count": 26,
   "metadata": {
    "executionInfo": {
     "elapsed": 6,
     "status": "ok",
     "timestamp": 1694077964305,
     "user": {
      "displayName": "jesan ahammed ovi",
      "userId": "06709740828575339070"
     },
     "user_tz": -360
    },
    "id": "bCGvEu37MTbM"
   },
   "outputs": [],
   "source": [
    "inputDimension = 300\n",
    "hiddenSize = 256\n",
    "numLayer = 2\n",
    "batchFirst = True\n",
    "biDirectional = False\n",
    "direction = 1\n",
    "encoderDropout = 0.3\n",
    "decoderDropout = 0.3"
   ]
  },
  {
   "cell_type": "code",
   "execution_count": 27,
   "metadata": {
    "executionInfo": {
     "elapsed": 3,
     "status": "ok",
     "timestamp": 1694077964305,
     "user": {
      "displayName": "jesan ahammed ovi",
      "userId": "06709740828575339070"
     },
     "user_tz": -360
    },
    "id": "_bV_nBzqMiOW"
   },
   "outputs": [],
   "source": [
    "class Encoder(torch.nn.Module):\n",
    "    def __init__(self, inputDimension, hiddenSize, numLayer, batchFirst, p):\n",
    "        super(Encoder, self).__init__()\n",
    "\n",
    "        self.input_size = inputDimension\n",
    "        self.hidden_size = hiddenSize\n",
    "        self.num_layers = numLayer\n",
    "        self.batch_first = batchFirst\n",
    "        self.embedding = nn.Embedding.from_pretrained(glove.vectors)\n",
    "        self.dropout = nn.Dropout(p)\n",
    "\n",
    "        self.lstm = torch.nn.LSTM(self.input_size, self.hidden_size, self.num_layers, bidirectional=False,\n",
    "                          batch_first=self.batch_first, dropout=p)\n",
    "\n",
    "    def forward(self, input):\n",
    "        #print(f'input shape: {input.shape}')\n",
    "        self.batch_size = input.size(0)\n",
    "        hidden = torch.zeros(self.num_layers, self.batch_size, self.hidden_size).to(device)\n",
    "        cell = torch.zeros(self.num_layers, self.batch_size, self.hidden_size).to(device)\n",
    "        #print(f'hidden shape: {hidden.shape}')\n",
    "        embd = self.dropout(self.embedding(input))\n",
    "        #print(f'embedding shape: {embd.shape}')\n",
    "        output, (hidden, cell) = self.lstm(embd, (hidden, cell))\n",
    "        return hidden, cell\n"
   ]
  },
  {
   "cell_type": "code",
   "execution_count": 28,
   "metadata": {
    "executionInfo": {
     "elapsed": 3,
     "status": "ok",
     "timestamp": 1694077964306,
     "user": {
      "displayName": "jesan ahammed ovi",
      "userId": "06709740828575339070"
     },
     "user_tz": -360
    },
    "id": "orVF1CarMjxv"
   },
   "outputs": [],
   "source": [
    "from torchtext.vocab import FastText"
   ]
  },
  {
   "cell_type": "code",
   "execution_count": 29,
   "metadata": {
    "executionInfo": {
     "elapsed": 25010,
     "status": "ok",
     "timestamp": 1694077989313,
     "user": {
      "displayName": "jesan ahammed ovi",
      "userId": "06709740828575339070"
     },
     "user_tz": -360
    },
    "id": "REh0e4-QMo0Z"
   },
   "outputs": [],
   "source": [
    "language = 'fr'\n",
    "# the dimensionality of the embeddings is determined by the pre-trained FastText model itself.\n",
    "#The dimensionality is typically set during the training of the FastText model and is not a configurable parameter\n",
    "#when loading the embeddings.\n",
    "ft_vectors = FastText(language=language, cache='cache.txt')"
   ]
  },
  {
   "cell_type": "code",
   "execution_count": 30,
   "metadata": {
    "colab": {
     "base_uri": "https://localhost:8080/"
    },
    "executionInfo": {
     "elapsed": 923,
     "status": "ok",
     "timestamp": 1694077990225,
     "user": {
      "displayName": "jesan ahammed ovi",
      "userId": "06709740828575339070"
     },
     "user_tz": -360
    },
    "id": "XZ2ewQGi1niI",
    "outputId": "db0d65c4-21f4-4eed-f1a2-6dfdda0f07f2"
   },
   "outputs": [
    {
     "name": "stderr",
     "output_type": "stream",
     "text": [
      "C:\\Users\\Jesan\\AppData\\Local\\Temp\\ipykernel_5748\\2224561773.py:1: UserWarning: To copy construct from a tensor, it is recommended to use sourceTensor.clone().detach() or sourceTensor.clone().detach().requires_grad_(True), rather than torch.tensor(sourceTensor).\n",
      "  pretrained_embeddings = torch.tensor(ft_vectors.vectors)\n"
     ]
    }
   ],
   "source": [
    "pretrained_embeddings = torch.tensor(ft_vectors.vectors)"
   ]
  },
  {
   "cell_type": "code",
   "execution_count": 31,
   "metadata": {
    "executionInfo": {
     "elapsed": 5,
     "status": "ok",
     "timestamp": 1694077990225,
     "user": {
      "displayName": "jesan ahammed ovi",
      "userId": "06709740828575339070"
     },
     "user_tz": -360
    },
    "id": "Qttqg5-f33Ww"
   },
   "outputs": [],
   "source": [
    "class Decoder(torch.nn.Module):\n",
    "    def __init__(self, inputDimension, hiddenSize, numLayer, batchFirst, p, outputSize):\n",
    "        super(Decoder, self).__init__()\n",
    "        self.input_size = inputDimension\n",
    "        self.hidden_size = hiddenSize\n",
    "        self.num_layers = numLayer\n",
    "        self.batch_first = batchFirst\n",
    "        self.output_size = outputSize\n",
    "\n",
    "        self.embedding = nn.Embedding.from_pretrained(torch.tensor(ft_vectors.vectors))\n",
    "        self.dropout = nn.Dropout(p)\n",
    "\n",
    "        self.lstm = torch.nn.LSTM(self.input_size, self.hidden_size, self.num_layers, bidirectional=False,\n",
    "                          batch_first=self.batch_first, dropout=p)\n",
    "\n",
    "        self.fc = nn.Linear(self.hidden_size, self.output_size)\n",
    "\n",
    "    def forward(self, input, hidden, cell):\n",
    "        # shape of input: (batchSize) but we want it as (batchsize, seqLen) -> (batchsize, 1)\n",
    "        input = input.unsqueeze(1)\n",
    "        #print(f'shape of input: {input.shape}')\n",
    "        embd = self.dropout(self.embedding(input))\n",
    "        #print(f'embedding shape: {embd.shape}')\n",
    "        output, (hidden, cell) = self.lstm(embd, (hidden, cell))\n",
    "        # shape of output -> (batchSize, seqLen = 1, hiddenSize)\n",
    "        prediction = self.fc(output)\n",
    "        #print(f'prediction shape: {prediction.shape}')\n",
    "        prediction = prediction.squeeze(1)\n",
    "\n",
    "        return prediction, hidden, cell"
   ]
  },
  {
   "cell_type": "code",
   "execution_count": 32,
   "metadata": {
    "executionInfo": {
     "elapsed": 6,
     "status": "ok",
     "timestamp": 1694077990226,
     "user": {
      "displayName": "jesan ahammed ovi",
      "userId": "06709740828575339070"
     },
     "user_tz": -360
    },
    "id": "xlKgj_bg3-PF"
   },
   "outputs": [],
   "source": [
    "inputDimensionFr = pretrained_embeddings.shape[1] # embedding dimension for french words\n",
    "outputSize = len(fronehot_dic)"
   ]
  },
  {
   "cell_type": "code",
   "execution_count": 33,
   "metadata": {
    "executionInfo": {
     "elapsed": 6,
     "status": "ok",
     "timestamp": 1694077990226,
     "user": {
      "displayName": "jesan ahammed ovi",
      "userId": "06709740828575339070"
     },
     "user_tz": -360
    },
    "id": "GfcUxUM14JzX"
   },
   "outputs": [],
   "source": [
    "class Seq2Seq(torch.nn.Module):\n",
    "    def __init__(self, encoder, decoder):\n",
    "        super(Seq2Seq, self).__init__()\n",
    "        self.encoder = encoder\n",
    "        self.decoder = decoder\n",
    "    def forward(self, sourceLang, targetLang, seqLen, outputSize):\n",
    "        #print(sourceLang.shape)\n",
    "        batch_size = sourceLang.shape[0]\n",
    "        target_len = seqLen\n",
    "\n",
    "        outputs = torch.zeros(target_len, batch_size, outputSize).to(device)\n",
    "\n",
    "        hidden, cell = self.encoder(sourceLang)\n",
    "\n",
    "        x = targetLang[:, 0]\n",
    "\n",
    "        for t in range(1, 100):\n",
    "            output, hidden, cell = self.decoder(x, hidden, cell)\n",
    "            #output = F.softmax(output, dim=1)\n",
    "            outputs[t] = output\n",
    "            best_guess = output.argmax(1)\n",
    "            x = targetLang[:, t] if random.random() < 0.5 else best_guess\n",
    "            #print(f'shape of best guess: {best_guess.shape}')\n",
    "        return outputs\n"
   ]
  },
  {
   "cell_type": "code",
   "execution_count": 34,
   "metadata": {
    "colab": {
     "base_uri": "https://localhost:8080/"
    },
    "executionInfo": {
     "elapsed": 6,
     "status": "ok",
     "timestamp": 1694077990226,
     "user": {
      "displayName": "jesan ahammed ovi",
      "userId": "06709740828575339070"
     },
     "user_tz": -360
    },
    "id": "I_IBSb2x4V8v",
    "outputId": "8c177a66-60d7-4a87-ad40-11a1299d2f29"
   },
   "outputs": [
    {
     "name": "stdout",
     "output_type": "stream",
     "text": [
      "tensor([[8, 9, 4, 4, 6, 2, 9],\n",
      "        [4, 6, 6, 9, 6, 6, 3],\n",
      "        [6, 7, 7, 6, 6, 2, 9],\n",
      "        [6, 9, 6, 4, 9, 5, 7],\n",
      "        [9, 4, 4, 4, 5, 6, 9]])\n",
      "tensor([8, 4, 6, 6, 9])\n",
      "torch.Size([5])\n",
      "tensor([[8],\n",
      "        [4],\n",
      "        [6],\n",
      "        [6],\n",
      "        [9]])\n",
      "torch.Size([5, 1])\n"
     ]
    }
   ],
   "source": [
    "test = torch.randint(2, 10, size = (5, 7))\n",
    "print(test)\n",
    "first = test[:, 0]\n",
    "print(first)\n",
    "print(first.shape)\n",
    "\n",
    "first = first.unsqueeze(1)\n",
    "\n",
    "print(first)\n",
    "print(first.shape)"
   ]
  },
  {
   "cell_type": "code",
   "execution_count": 35,
   "metadata": {
    "colab": {
     "base_uri": "https://localhost:8080/"
    },
    "executionInfo": {
     "elapsed": 4825,
     "status": "ok",
     "timestamp": 1694077995046,
     "user": {
      "displayName": "jesan ahammed ovi",
      "userId": "06709740828575339070"
     },
     "user_tz": -360
    },
    "id": "YNT39bq94ch7",
    "outputId": "acf1e4f3-e3ac-4a0a-fd1a-c62ca9d9bd68"
   },
   "outputs": [
    {
     "name": "stderr",
     "output_type": "stream",
     "text": [
      "C:\\Users\\Jesan\\AppData\\Local\\Temp\\ipykernel_5748\\925175780.py:10: UserWarning: To copy construct from a tensor, it is recommended to use sourceTensor.clone().detach() or sourceTensor.clone().detach().requires_grad_(True), rather than torch.tensor(sourceTensor).\n",
      "  self.embedding = nn.Embedding.from_pretrained(torch.tensor(ft_vectors.vectors))\n"
     ]
    }
   ],
   "source": [
    "encoderNet = Encoder(inputDimension, hiddenSize, numLayer, batchFirst, encoderDropout).to(device)\n",
    "decoderNet = Decoder(inputDimensionFr, hiddenSize, numLayer, batchFirst, decoderDropout, outputSize).to(device)\n",
    "modelNet = Seq2Seq(encoderNet, decoderNet).to(device)"
   ]
  },
  {
   "cell_type": "code",
   "execution_count": 36,
   "metadata": {
    "colab": {
     "base_uri": "https://localhost:8080/"
    },
    "executionInfo": {
     "elapsed": 16,
     "status": "ok",
     "timestamp": 1694077995047,
     "user": {
      "displayName": "jesan ahammed ovi",
      "userId": "06709740828575339070"
     },
     "user_tz": -360
    },
    "id": "UCbcRHef4u5d",
    "outputId": "a31a6ae2-7c7c-4e80-a04c-e9fcb865f6b7"
   },
   "outputs": [
    {
     "name": "stdout",
     "output_type": "stream",
     "text": [
      "Total number of parameters: 473.378042 million\n"
     ]
    }
   ],
   "source": [
    "total_params = sum(p.numel() for p in modelNet.parameters())\n",
    "total_params /= 1000000\n",
    "print(f\"Total number of parameters: {total_params} million\")"
   ]
  },
  {
   "cell_type": "code",
   "execution_count": 37,
   "metadata": {
    "executionInfo": {
     "elapsed": 14,
     "status": "ok",
     "timestamp": 1694077995047,
     "user": {
      "displayName": "jesan ahammed ovi",
      "userId": "06709740828575339070"
     },
     "user_tz": -360
    },
    "id": "G4g4ejvi40E4"
   },
   "outputs": [],
   "source": [
    "learningRate = 0.001\n",
    "criterion = nn.CrossEntropyLoss()\n",
    "optimizer = torch.optim.Adam(modelNet.parameters(), lr=learningRate)"
   ]
  },
  {
   "cell_type": "code",
   "execution_count": 38,
   "metadata": {
    "executionInfo": {
     "elapsed": 14,
     "status": "ok",
     "timestamp": 1694077995047,
     "user": {
      "displayName": "jesan ahammed ovi",
      "userId": "06709740828575339070"
     },
     "user_tz": -360
    },
    "id": "UtgSxuVj45EV"
   },
   "outputs": [],
   "source": [
    "import os"
   ]
  },
  {
   "cell_type": "code",
   "execution_count": 40,
   "metadata": {
    "colab": {
     "base_uri": "https://localhost:8080/",
     "height": 407
    },
    "executionInfo": {
     "elapsed": 1286470,
     "status": "error",
     "timestamp": 1694079281503,
     "user": {
      "displayName": "jesan ahammed ovi",
      "userId": "06709740828575339070"
     },
     "user_tz": -360
    },
    "id": "vwi6nbIwEdYy",
    "outputId": "e7fd1aca-3ea7-477c-c3d2-758240766341"
   },
   "outputs": [
    {
     "name": "stdout",
     "output_type": "stream",
     "text": [
      "Number of epoch: 0\n",
      "6.00710391998291\n",
      "5.681663513183594\n",
      "5.45096492767334\n",
      "5.3096232414245605\n"
     ]
    },
    {
     "ename": "KeyboardInterrupt",
     "evalue": "",
     "output_type": "error",
     "traceback": [
      "\u001b[1;31m---------------------------------------------------------------------------\u001b[0m",
      "\u001b[1;31mKeyboardInterrupt\u001b[0m                         Traceback (most recent call last)",
      "Cell \u001b[1;32mIn[40], line 38\u001b[0m\n\u001b[0;32m     35\u001b[0m target \u001b[38;5;241m=\u001b[39m target\u001b[38;5;241m.\u001b[39mlong()\n\u001b[0;32m     37\u001b[0m loss \u001b[38;5;241m=\u001b[39m criterion(outputs, target)\n\u001b[1;32m---> 38\u001b[0m loss\u001b[38;5;241m.\u001b[39mbackward()\n\u001b[0;32m     39\u001b[0m nn\u001b[38;5;241m.\u001b[39mutils\u001b[38;5;241m.\u001b[39mclip_grad_norm_(modelNet\u001b[38;5;241m.\u001b[39mparameters(), clip)\n\u001b[0;32m     40\u001b[0m optimizer\u001b[38;5;241m.\u001b[39mstep()\n",
      "File \u001b[1;32m~\\anaconda3\\envs\\dlcuda\\Lib\\site-packages\\torch\\_tensor.py:487\u001b[0m, in \u001b[0;36mTensor.backward\u001b[1;34m(self, gradient, retain_graph, create_graph, inputs)\u001b[0m\n\u001b[0;32m    477\u001b[0m \u001b[38;5;28;01mif\u001b[39;00m has_torch_function_unary(\u001b[38;5;28mself\u001b[39m):\n\u001b[0;32m    478\u001b[0m     \u001b[38;5;28;01mreturn\u001b[39;00m handle_torch_function(\n\u001b[0;32m    479\u001b[0m         Tensor\u001b[38;5;241m.\u001b[39mbackward,\n\u001b[0;32m    480\u001b[0m         (\u001b[38;5;28mself\u001b[39m,),\n\u001b[1;32m   (...)\u001b[0m\n\u001b[0;32m    485\u001b[0m         inputs\u001b[38;5;241m=\u001b[39minputs,\n\u001b[0;32m    486\u001b[0m     )\n\u001b[1;32m--> 487\u001b[0m torch\u001b[38;5;241m.\u001b[39mautograd\u001b[38;5;241m.\u001b[39mbackward(\n\u001b[0;32m    488\u001b[0m     \u001b[38;5;28mself\u001b[39m, gradient, retain_graph, create_graph, inputs\u001b[38;5;241m=\u001b[39minputs\n\u001b[0;32m    489\u001b[0m )\n",
      "File \u001b[1;32m~\\anaconda3\\envs\\dlcuda\\Lib\\site-packages\\torch\\autograd\\__init__.py:200\u001b[0m, in \u001b[0;36mbackward\u001b[1;34m(tensors, grad_tensors, retain_graph, create_graph, grad_variables, inputs)\u001b[0m\n\u001b[0;32m    195\u001b[0m     retain_graph \u001b[38;5;241m=\u001b[39m create_graph\n\u001b[0;32m    197\u001b[0m \u001b[38;5;66;03m# The reason we repeat same the comment below is that\u001b[39;00m\n\u001b[0;32m    198\u001b[0m \u001b[38;5;66;03m# some Python versions print out the first line of a multi-line function\u001b[39;00m\n\u001b[0;32m    199\u001b[0m \u001b[38;5;66;03m# calls in the traceback and some print out the last line\u001b[39;00m\n\u001b[1;32m--> 200\u001b[0m Variable\u001b[38;5;241m.\u001b[39m_execution_engine\u001b[38;5;241m.\u001b[39mrun_backward(  \u001b[38;5;66;03m# Calls into the C++ engine to run the backward pass\u001b[39;00m\n\u001b[0;32m    201\u001b[0m     tensors, grad_tensors_, retain_graph, create_graph, inputs,\n\u001b[0;32m    202\u001b[0m     allow_unreachable\u001b[38;5;241m=\u001b[39m\u001b[38;5;28;01mTrue\u001b[39;00m, accumulate_grad\u001b[38;5;241m=\u001b[39m\u001b[38;5;28;01mTrue\u001b[39;00m)\n",
      "\u001b[1;31mKeyboardInterrupt\u001b[0m: "
     ]
    }
   ],
   "source": [
    "clip = 1\n",
    "epochs = 2\n",
    "\n",
    "valid_loss_min = np.Inf\n",
    "epoch_tr_loss, epoch_vl_loss = [], []\n",
    "epoch_tr_acc, epoch_vl_acc = [], []\n",
    "\n",
    "checkpoint_dir = 'checkpoints/'\n",
    "if not os.path.exists(checkpoint_dir):\n",
    "    os.makedirs(checkpoint_dir)\n",
    "\n",
    "checkpoint_path = os.path.join(checkpoint_dir, 'model_checkpoint.pth')\n",
    "\n",
    "for epoch in range(epochs):\n",
    "    print(f'Number of epoch: {epoch}')\n",
    "    train_loss = 0.0\n",
    "    train_correct = 0\n",
    "    train_total = 0\n",
    "    modelNet.train()\n",
    "\n",
    "    for source, target in train_loader:\n",
    "        optimizer.zero_grad()\n",
    "\n",
    "        outputs = modelNet(source, target, seqLen, outputSize).to(device)\n",
    "        # outputs shape -> seqLen, batchsize, output size but want it 2 dimensional\n",
    "        #print(outputs.shape)\n",
    "        #print(target.shape)\n",
    "\n",
    "        outputs = outputs[1:].reshape(-1, outputs.shape[2])\n",
    "        target = target[:, 1:].reshape(-1)\n",
    "\n",
    "        #print(outputs.shape)\n",
    "        #print(target.shape)\n",
    "\n",
    "        target = target.long()\n",
    "\n",
    "        loss = criterion(outputs, target)\n",
    "        loss.backward()\n",
    "        nn.utils.clip_grad_norm_(modelNet.parameters(), clip)\n",
    "        optimizer.step()\n",
    "\n",
    "        train_loss += loss.item()\n",
    "        print(loss.item())\n",
    "\n",
    "    epoch_tr_loss.append(train_loss / len(train_loader))\n",
    "    print(f'Training Loss: {epoch_tr_loss[-1]:.4f}')\n",
    "    '''\n",
    "    checkpoint = {\n",
    "        'epoch': epoch,\n",
    "        'model_state_dict': modelNet.state_dict(),\n",
    "        'optimizer_state_dict': optimizer.state_dict(),\n",
    "        'loss': train_loss,\n",
    "        # Add other relevant information you want to save\n",
    "    }\n",
    "    torch.save(checkpoint, checkpoint_path)\n",
    "    print(f\"Saved checkpoint at epoch {epoch}\")\n",
    "\n",
    "    # Optionally, load a checkpoint later for resuming training or inference\n",
    "    # Example of loading a checkpoint:\n",
    "    # checkpoint = torch.load(checkpoint_path)\n",
    "    # model.load_state_dict(checkpoint['model_state_dict'])\n",
    "    # optimizer.load_state_dict(checkpoint['optimizer_state_dict'])\n",
    "    # start_epoch = checkpoint['epoch'] + 1\n",
    "    # train_loss = checkpoint['loss']\n",
    "    '''"
   ]
  },
  {
   "cell_type": "code",
   "execution_count": 41,
   "metadata": {},
   "outputs": [
    {
     "name": "stdout",
     "output_type": "stream",
     "text": [
      "cuda:0\n"
     ]
    }
   ],
   "source": [
    "print(outputs.device)"
   ]
  },
  {
   "cell_type": "code",
   "execution_count": null,
   "metadata": {},
   "outputs": [],
   "source": []
  }
 ],
 "metadata": {
  "accelerator": "GPU",
  "colab": {
   "authorship_tag": "ABX9TyOibWd3QhJkwooNwYJn1D9z",
   "gpuType": "T4",
   "provenance": []
  },
  "kernelspec": {
   "display_name": "Python 3 (ipykernel)",
   "language": "python",
   "name": "python3"
  },
  "language_info": {
   "codemirror_mode": {
    "name": "ipython",
    "version": 3
   },
   "file_extension": ".py",
   "mimetype": "text/x-python",
   "name": "python",
   "nbconvert_exporter": "python",
   "pygments_lexer": "ipython3",
   "version": "3.11.4"
  }
 },
 "nbformat": 4,
 "nbformat_minor": 1
}
